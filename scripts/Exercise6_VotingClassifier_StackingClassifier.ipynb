{
 "cells": [
  {
   "cell_type": "markdown",
   "id": "101814e3",
   "metadata": {},
   "source": [
    "### Teste VotingClassifier"
   ]
  },
  {
   "cell_type": "code",
   "execution_count": 13,
   "id": "546101c3",
   "metadata": {},
   "outputs": [],
   "source": [
    "# -*- coding: utf-8 -*-\n",
    "\n",
    "# modules\n",
    "import sys\n",
    "sys.path.insert(0, r'C:\\Users\\Asus\\Desktop\\Bioinformática\\2º Ano\\1º Semestre\\Sistemas inteligentes\\si\\src\\si')\n",
    "sys.path.insert(0, r'C:\\Users\\Asus\\Desktop\\Bioinformática\\2º Ano\\1º Semestre\\Sistemas inteligentes\\si\\src\\si\\io')\n",
    "\n",
    "from sklearn.preprocessing import StandardScaler\n",
    "from neighbors.knn_classifier import KNNClassifier\n",
    "from linear_model.logistic_regression import LogisticRegression\n",
    "from essemble.voting_classifier import VotingClassifier\n",
    "from model_selection.split import train_test_split\n",
    "from csv1 import read_csv\n",
    "import numpy as np"
   ]
  },
  {
   "cell_type": "code",
   "execution_count": 8,
   "id": "cca3f890",
   "metadata": {},
   "outputs": [],
   "source": [
    "path = r'C:\\Users\\Asus\\Desktop\\Bioinformática\\2º Ano\\1º Semestre\\Sistemas inteligentes\\si\\datasets\\breast-bin.csv'\n",
    "breast = read_csv(path, sep = \",\", features = False, label = True)"
   ]
  },
  {
   "cell_type": "code",
   "execution_count": 9,
   "id": "6b08bc55",
   "metadata": {},
   "outputs": [],
   "source": [
    "# load and split the dataset\n",
    "breast.X = StandardScaler().fit_transform(breast.X) \n",
    "train, test = train_test_split(breast, test_size = 0.2, random_state = 42) "
   ]
  },
  {
   "cell_type": "code",
   "execution_count": 10,
   "id": "aae4d80e",
   "metadata": {},
   "outputs": [],
   "source": [
    "# initialize the KNN and Logistic classifier\n",
    "knn = KNNClassifier(k = 3)\n",
    "lg = LogisticRegression(use_adaptive_alpha = False, l2_penalty = 1, alpha = 0.001, max_iter = 1000)"
   ]
  },
  {
   "cell_type": "code",
   "execution_count": 11,
   "id": "51395bc2",
   "metadata": {},
   "outputs": [
    {
     "data": {
      "text/plain": [
       "<essemble.voting_classifier.VotingClassifier at 0x1da792736d0>"
      ]
     },
     "execution_count": 11,
     "metadata": {},
     "output_type": "execute_result"
    }
   ],
   "source": [
    "# initialize the Voting classifier\n",
    "voting = VotingClassifier([knn, lg])\n",
    "\n",
    "voting.fit(train)"
   ]
  },
  {
   "cell_type": "code",
   "execution_count": 12,
   "id": "b086c463",
   "metadata": {},
   "outputs": [
    {
     "name": "stdout",
     "output_type": "stream",
     "text": [
      "Score: 0.9928057553956835\n",
      "[1. 1. 0. 0. 0. 0. 1. 0. 0. 1. 0. 1. 1. 1. 0. 0. 0. 0. 1. 0. 0. 1. 0. 1.\n",
      " 1. 0. 0. 0. 0. 0. 1. 0. 1. 0. 0. 0. 0. 0. 1. 1. 0. 0. 1. 0. 0. 1. 1. 0.\n",
      " 0. 1. 1. 0. 1. 0. 0. 1. 0. 0. 1. 0. 1. 1. 1. 0. 0. 1. 0. 0. 1. 0. 0. 0.\n",
      " 0. 0. 1. 0. 0. 1. 0. 1. 0. 1. 0. 0. 0. 1. 1. 0. 0. 0. 0. 1. 0. 1. 1. 0.\n",
      " 0. 0. 0. 1. 1. 0. 1. 1. 0. 1. 0. 0. 0. 1. 1. 1. 0. 0. 0. 1. 0. 1. 1. 0.\n",
      " 0. 0. 1. 0. 0. 0. 0. 0. 0. 0. 0. 1. 0. 0. 0. 1. 0. 0. 1.]\n"
     ]
    }
   ],
   "source": [
    "# compute the score\n",
    "score = voting.score(test)\n",
    "print(f\"Score: {score}\")\n",
    "\n",
    "print(voting.predict(test))"
   ]
  },
  {
   "cell_type": "markdown",
   "id": "e633513a",
   "metadata": {},
   "source": [
    "### Teste StackingClassifier"
   ]
  },
  {
   "cell_type": "code",
   "execution_count": 16,
   "id": "e38ec81b",
   "metadata": {},
   "outputs": [],
   "source": [
    "from essemble.stacking_classifier import StackingClassifier"
   ]
  },
  {
   "cell_type": "code",
   "execution_count": 17,
   "id": "5402e950",
   "metadata": {},
   "outputs": [
    {
     "data": {
      "text/plain": [
       "<essemble.stacking_classifier.StackingClassifier at 0x1da7993b8b0>"
      ]
     },
     "execution_count": 17,
     "metadata": {},
     "output_type": "execute_result"
    }
   ],
   "source": [
    "final_model = KNNClassifier(k = 4)\n",
    "stacking = StackingClassifier([knn, lg], final_model)\n",
    "stacking.fit(train)"
   ]
  },
  {
   "cell_type": "code",
   "execution_count": 19,
   "id": "c712e41f",
   "metadata": {},
   "outputs": [
    {
     "name": "stdout",
     "output_type": "stream",
     "text": [
      "Score: 0.9928057553956835\n",
      "Predictions: [1. 1. 0. 0. 0. 0. 1. 0. 0. 1. 0. 1. 1. 1. 0. 0. 0. 0. 1. 0. 0. 1. 0. 1.\n",
      " 1. 0. 0. 0. 0. 0. 1. 0. 1. 0. 0. 0. 0. 0. 1. 1. 0. 0. 1. 0. 0. 1. 1. 0.\n",
      " 0. 1. 1. 0. 1. 0. 0. 1. 0. 0. 1. 0. 1. 1. 1. 0. 0. 1. 0. 0. 1. 0. 0. 0.\n",
      " 0. 0. 1. 0. 0. 1. 0. 1. 0. 1. 0. 0. 0. 1. 1. 0. 0. 0. 0. 1. 0. 1. 1. 0.\n",
      " 0. 0. 0. 1. 1. 0. 1. 1. 0. 1. 0. 0. 0. 1. 1. 1. 0. 0. 0. 1. 0. 1. 1. 0.\n",
      " 0. 0. 1. 0. 0. 0. 0. 0. 0. 0. 0. 1. 0. 0. 0. 1. 0. 0. 1.]\n"
     ]
    }
   ],
   "source": [
    "print(f\"Score: {stacking.score(test)}\") \n",
    "print(f\"Predictions: {stacking.predict(test)}\") "
   ]
  },
  {
   "cell_type": "code",
   "execution_count": null,
   "id": "ef71e2bd",
   "metadata": {},
   "outputs": [],
   "source": []
  }
 ],
 "metadata": {
  "kernelspec": {
   "display_name": "Python 3 (ipykernel)",
   "language": "python",
   "name": "python3"
  },
  "language_info": {
   "codemirror_mode": {
    "name": "ipython",
    "version": 3
   },
   "file_extension": ".py",
   "mimetype": "text/x-python",
   "name": "python",
   "nbconvert_exporter": "python",
   "pygments_lexer": "ipython3",
   "version": "3.9.7"
  }
 },
 "nbformat": 4,
 "nbformat_minor": 5
}
