{
 "cells": [
  {
   "cell_type": "markdown",
   "id": "74f094e5",
   "metadata": {},
   "source": [
    "### Exercício: Adiciona o método randomized_search_cv."
   ]
  },
  {
   "cell_type": "markdown",
   "id": "5ad18fef",
   "metadata": {},
   "source": [
    "#### Avaliação da implementação"
   ]
  },
  {
   "cell_type": "code",
   "execution_count": 6,
   "id": "cac5b484",
   "metadata": {},
   "outputs": [],
   "source": [
    "#Imports\n",
    "import sys\n",
    "import numpy as np\n",
    "sys.path.insert(0, r'C:\\Users\\Asus\\Desktop\\Bioinformática\\2º Ano\\1º Semestre\\Sistemas inteligentes\\si\\src\\si')\n",
    "sys.path.insert(0, r'C:\\Users\\Asus\\Desktop\\Bioinformática\\2º Ano\\1º Semestre\\Sistemas inteligentes\\si\\src\\si\\io')\n",
    "from linear_model.logistic_regression import LogisticRegression\n",
    "from sklearn.preprocessing import StandardScaler\n",
    "from model_selection.randomized_search_cv import randomized_search_cv\n",
    "from csv1 import read_csv"
   ]
  },
  {
   "cell_type": "markdown",
   "id": "d89e3cf7",
   "metadata": {},
   "source": [
    "#### Import dataset"
   ]
  },
  {
   "cell_type": "code",
   "execution_count": 3,
   "id": "261d2748",
   "metadata": {},
   "outputs": [],
   "source": [
    "path = r'C:\\Users\\Asus\\Desktop\\Bioinformática\\2º Ano\\1º Semestre\\Sistemas inteligentes\\si\\datasets\\breast-bin.csv'\n",
    "breast = read_csv(path, sep = \",\", features = False, label = True)\n",
    "breast.X = StandardScaler().fit_transform(breast.X) "
   ]
  },
  {
   "cell_type": "markdown",
   "id": "35a9f9c4",
   "metadata": {},
   "source": [
    "#### Initialize the Logistic Regression model"
   ]
  },
  {
   "cell_type": "code",
   "execution_count": 4,
   "id": "70abb992",
   "metadata": {},
   "outputs": [],
   "source": [
    "knn = LogisticRegression(use_adaptive_alpha = False)"
   ]
  },
  {
   "cell_type": "markdown",
   "id": "56855f09",
   "metadata": {},
   "source": [
    "#### Parameter distribution"
   ]
  },
  {
   "cell_type": "code",
   "execution_count": 7,
   "id": "78ae8eb5",
   "metadata": {},
   "outputs": [],
   "source": [
    " parameter_distribution = {'l2_penalty': np.linspace(1, 10, 10), 'alpha': np.linspace(0.001, 0.0001, 100), 'max_iter': np.linspace(1000, 2000, 200, dtype = int)}"
   ]
  },
  {
   "cell_type": "markdown",
   "id": "4efffa30",
   "metadata": {},
   "source": [
    "#### Cross validate the model"
   ]
  },
  {
   "cell_type": "code",
   "execution_count": 8,
   "id": "eab7b455",
   "metadata": {},
   "outputs": [],
   "source": [
    "scores_ = randomized_search_cv(knn, breast, parameter_distribution=parameter_distribution, cv = 3, n_iter = 10)"
   ]
  },
  {
   "cell_type": "markdown",
   "id": "28099e64",
   "metadata": {},
   "source": [
    "#### Final score"
   ]
  },
  {
   "cell_type": "code",
   "execution_count": 10,
   "id": "3941df55",
   "metadata": {},
   "outputs": [
    {
     "name": "stdout",
     "output_type": "stream",
     "text": [
      "Scores: [{'seeds': [625, 594, 539], 'train': [0.962432915921288, 0.9660107334525939, 0.9660107334525939], 'test': [0.9856115107913669, 0.9712230215827338, 0.9712230215827338], 'parameters': {'l2_penalty': 2.0, 'alpha': 0.00039090909090909096, 'max_iter': 1341}}, {'seeds': [629, 553, 876], 'train': [0.9713774597495528, 0.964221824686941, 0.962432915921288], 'test': [0.9496402877697842, 0.9784172661870504, 0.9856115107913669], 'parameters': {'l2_penalty': 2.0, 'alpha': 0.00039090909090909096, 'max_iter': 1341}}, {'seeds': [368, 67, 150], 'train': [0.962432915921288, 0.964221824686941, 0.962432915921288], 'test': [0.9856115107913669, 0.9784172661870504, 0.9856115107913669], 'parameters': {'l2_penalty': 2.0, 'alpha': 0.00039090909090909096, 'max_iter': 1341}}, {'seeds': [494, 887, 547], 'train': [0.962432915921288, 0.9660107334525939, 0.9713774597495528], 'test': [0.9856115107913669, 0.9712230215827338, 0.9496402877697842], 'parameters': {'l2_penalty': 10.0, 'alpha': 0.00010909090909090905, 'max_iter': 1959}}, {'seeds': [292, 701, 651], 'train': [0.9713774597495528, 0.962432915921288, 0.9695885509838998], 'test': [0.9496402877697842, 0.9856115107913669, 0.9568345323741008], 'parameters': {'l2_penalty': 10.0, 'alpha': 0.00010909090909090905, 'max_iter': 1959}}, {'seeds': [961, 45, 612], 'train': [0.960644007155635, 0.9713774597495528, 0.964221824686941], 'test': [0.9928057553956835, 0.9496402877697842, 0.9784172661870504], 'parameters': {'l2_penalty': 10.0, 'alpha': 0.00010909090909090905, 'max_iter': 1959}}, {'seeds': [421, 700, 555], 'train': [0.9731663685152058, 0.964221824686941, 0.9695885509838998], 'test': [0.9424460431654677, 0.9784172661870504, 0.9568345323741008], 'parameters': {'l2_penalty': 9.0, 'alpha': 0.0009, 'max_iter': 2000}}, {'seeds': [572, 70, 768], 'train': [0.9731663685152058, 0.964221824686941, 0.964221824686941], 'test': [0.9424460431654677, 0.9784172661870504, 0.9784172661870504], 'parameters': {'l2_penalty': 9.0, 'alpha': 0.0009, 'max_iter': 2000}}, {'seeds': [128, 827, 331], 'train': [0.9695885509838998, 0.9695885509838998, 0.964221824686941], 'test': [0.9568345323741008, 0.9568345323741008, 0.9784172661870504], 'parameters': {'l2_penalty': 9.0, 'alpha': 0.0009, 'max_iter': 2000}}, {'seeds': [433, 141, 550], 'train': [0.960644007155635, 0.962432915921288, 0.9677996422182469], 'test': [0.9928057553956835, 0.9856115107913669, 0.9640287769784173], 'parameters': {'l2_penalty': 5.0, 'alpha': 0.0009454545454545454, 'max_iter': 1467}}, {'seeds': [965, 116, 45], 'train': [0.9695885509838998, 0.9677996422182469, 0.9713774597495528], 'test': [0.9568345323741008, 0.9640287769784173, 0.9496402877697842], 'parameters': {'l2_penalty': 5.0, 'alpha': 0.0009454545454545454, 'max_iter': 1467}}, {'seeds': [612, 421, 700], 'train': [0.964221824686941, 0.9731663685152058, 0.9660107334525939], 'test': [0.9784172661870504, 0.9424460431654677, 0.9784172661870504], 'parameters': {'l2_penalty': 5.0, 'alpha': 0.0009454545454545454, 'max_iter': 1467}}, {'seeds': [555, 572, 70], 'train': [0.9695885509838998, 0.9731663685152058, 0.9660107334525939], 'test': [0.9568345323741008, 0.9424460431654677, 0.9784172661870504], 'parameters': {'l2_penalty': 2.0, 'alpha': 0.0009727272727272728, 'max_iter': 1291}}, {'seeds': [768, 128, 827], 'train': [0.964221824686941, 0.9695885509838998, 0.9695885509838998], 'test': [0.9784172661870504, 0.9568345323741008, 0.9568345323741008], 'parameters': {'l2_penalty': 2.0, 'alpha': 0.0009727272727272728, 'max_iter': 1291}}, {'seeds': [331, 433, 141], 'train': [0.964221824686941, 0.960644007155635, 0.962432915921288], 'test': [0.9784172661870504, 0.9928057553956835, 0.9856115107913669], 'parameters': {'l2_penalty': 2.0, 'alpha': 0.0009727272727272728, 'max_iter': 1291}}, {'seeds': [550, 965, 116], 'train': [0.9677996422182469, 0.9695885509838998, 0.9677996422182469], 'test': [0.9640287769784173, 0.9568345323741008, 0.9640287769784173], 'parameters': {'l2_penalty': 9.0, 'alpha': 0.0008272727272727273, 'max_iter': 1964}}, {'seeds': [45, 612, 421], 'train': [0.9713774597495528, 0.964221824686941, 0.9731663685152058], 'test': [0.9496402877697842, 0.9784172661870504, 0.9424460431654677], 'parameters': {'l2_penalty': 9.0, 'alpha': 0.0008272727272727273, 'max_iter': 1964}}, {'seeds': [700, 555, 572], 'train': [0.9660107334525939, 0.9695885509838998, 0.9731663685152058], 'test': [0.9784172661870504, 0.9568345323741008, 0.9424460431654677], 'parameters': {'l2_penalty': 9.0, 'alpha': 0.0008272727272727273, 'max_iter': 1964}}, {'seeds': [70, 768, 128], 'train': [0.964221824686941, 0.964221824686941, 0.9695885509838998], 'test': [0.9784172661870504, 0.9784172661870504, 0.9568345323741008], 'parameters': {'l2_penalty': 7.0, 'alpha': 0.0008727272727272727, 'max_iter': 1994}}, {'seeds': [827, 331, 433], 'train': [0.9695885509838998, 0.964221824686941, 0.960644007155635], 'test': [0.9568345323741008, 0.9784172661870504, 0.9928057553956835], 'parameters': {'l2_penalty': 7.0, 'alpha': 0.0008727272727272727, 'max_iter': 1994}}, {'seeds': [141, 550, 965], 'train': [0.962432915921288, 0.9677996422182469, 0.9695885509838998], 'test': [0.9856115107913669, 0.9640287769784173, 0.9568345323741008], 'parameters': {'l2_penalty': 7.0, 'alpha': 0.0008727272727272727, 'max_iter': 1994}}, {'seeds': [116, 45, 612], 'train': [0.9677996422182469, 0.9713774597495528, 0.964221824686941], 'test': [0.9640287769784173, 0.9496402877697842, 0.9784172661870504], 'parameters': {'l2_penalty': 3.0, 'alpha': 0.0008727272727272727, 'max_iter': 1728}}, {'seeds': [421, 700, 555], 'train': [0.9731663685152058, 0.9660107334525939, 0.9695885509838998], 'test': [0.9424460431654677, 0.9784172661870504, 0.9568345323741008], 'parameters': {'l2_penalty': 3.0, 'alpha': 0.0008727272727272727, 'max_iter': 1728}}, {'seeds': [572, 70, 768], 'train': [0.9731663685152058, 0.964221824686941, 0.964221824686941], 'test': [0.9424460431654677, 0.9784172661870504, 0.9784172661870504], 'parameters': {'l2_penalty': 3.0, 'alpha': 0.0008727272727272727, 'max_iter': 1728}}, {'seeds': [128, 827, 331], 'train': [0.9695885509838998, 0.9695885509838998, 0.964221824686941], 'test': [0.9568345323741008, 0.9568345323741008, 0.9784172661870504], 'parameters': {'l2_penalty': 10.0, 'alpha': 0.0009818181818181818, 'max_iter': 1170}}, {'seeds': [433, 141, 550], 'train': [0.960644007155635, 0.962432915921288, 0.9677996422182469], 'test': [0.9928057553956835, 0.9856115107913669, 0.9640287769784173], 'parameters': {'l2_penalty': 10.0, 'alpha': 0.0009818181818181818, 'max_iter': 1170}}, {'seeds': [965, 116, 45], 'train': [0.9695885509838998, 0.9677996422182469, 0.9713774597495528], 'test': [0.9568345323741008, 0.9640287769784173, 0.9496402877697842], 'parameters': {'l2_penalty': 10.0, 'alpha': 0.0009818181818181818, 'max_iter': 1170}}, {'seeds': [612, 421, 700], 'train': [0.964221824686941, 0.9731663685152058, 0.9660107334525939], 'test': [0.9784172661870504, 0.9424460431654677, 0.9784172661870504], 'parameters': {'l2_penalty': 3.0, 'alpha': 0.0009, 'max_iter': 1035}}, {'seeds': [555, 572, 70], 'train': [0.9695885509838998, 0.9731663685152058, 0.964221824686941], 'test': [0.9568345323741008, 0.9424460431654677, 0.9784172661870504], 'parameters': {'l2_penalty': 3.0, 'alpha': 0.0009, 'max_iter': 1035}}, {'seeds': [768, 128, 827], 'train': [0.964221824686941, 0.9695885509838998, 0.9695885509838998], 'test': [0.9784172661870504, 0.9568345323741008, 0.9568345323741008], 'parameters': {'l2_penalty': 3.0, 'alpha': 0.0009, 'max_iter': 1035}}]\n",
      "\n"
     ]
    }
   ],
   "source": [
    "print(f\"Scores: {scores_}\\n\") "
   ]
  },
  {
   "cell_type": "code",
   "execution_count": null,
   "id": "09e01614",
   "metadata": {},
   "outputs": [],
   "source": []
  }
 ],
 "metadata": {
  "kernelspec": {
   "display_name": "Python 3 (ipykernel)",
   "language": "python",
   "name": "python3"
  },
  "language_info": {
   "codemirror_mode": {
    "name": "ipython",
    "version": 3
   },
   "file_extension": ".py",
   "mimetype": "text/x-python",
   "name": "python",
   "nbconvert_exporter": "python",
   "pygments_lexer": "ipython3",
   "version": "3.9.7"
  }
 },
 "nbformat": 4,
 "nbformat_minor": 5
}
