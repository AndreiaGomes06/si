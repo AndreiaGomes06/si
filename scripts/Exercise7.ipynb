{
 "cells": [
  {
   "cell_type": "markdown",
   "id": "74f094e5",
   "metadata": {},
   "source": [
    "### Exercício: Adiciona o método randomized_search_cv."
   ]
  },
  {
   "cell_type": "markdown",
   "id": "5ad18fef",
   "metadata": {},
   "source": [
    "#### Avaliação da implementação"
   ]
  },
  {
   "cell_type": "code",
   "execution_count": 2,
   "id": "cac5b484",
   "metadata": {},
   "outputs": [
    {
     "name": "stdout",
     "output_type": "stream",
     "text": [
      "['C:\\\\Users\\\\Asus\\\\Desktop\\\\Bioinformática\\\\2º Ano\\\\1º Semestre\\\\Sistemas inteligentes\\\\si\\\\src\\\\si', 'C:\\\\Users\\\\Asus\\\\Desktop\\\\Bioinformática\\\\2º Ano\\\\1º Semestre\\\\Sistemas inteligentes\\\\si\\\\src\\\\si\\\\io', 'C:\\\\Users\\\\Asus\\\\Desktop\\\\Bioinformática\\\\2º Ano\\\\1º Semestre\\\\Sistemas inteligentes\\\\si\\\\src\\\\si', 'C:\\\\Users\\\\Asus\\\\Desktop\\\\Bioinformática\\\\2º Ano\\\\1º Semestre\\\\Sistemas inteligentes\\\\si\\\\src\\\\si', 'C:\\\\Users\\\\Asus\\\\Desktop\\\\Bioinformática\\\\2º Ano\\\\1º Semestre\\\\Sistemas inteligentes\\\\si\\\\src\\\\si', 'C:\\\\Users\\\\Asus\\\\Desktop\\\\Bioinformática\\\\2º Ano\\\\1º Semestre\\\\Sistemas inteligentes\\\\si\\\\src\\\\si', 'C:\\\\Users\\\\Asus\\\\Desktop\\\\Bioinformática\\\\2º Ano\\\\1º Semestre\\\\Sistemas inteligentes\\\\si\\\\src\\\\si\\\\io', 'C:\\\\Users\\\\Asus\\\\Desktop\\\\Bioinformática\\\\2º Ano\\\\1º Semestre\\\\Sistemas inteligentes\\\\si\\\\src\\\\si', 'C:\\\\Users\\\\Asus\\\\Desktop\\\\Bioinformática\\\\2º Ano\\\\1º Semestre\\\\Sistemas inteligentes\\\\si\\\\src\\\\si\\\\io', 'C:\\\\Users\\\\Asus\\\\Desktop\\\\Bioinformática\\\\2º Ano\\\\1º Semestre\\\\Sistemas inteligentes\\\\si\\\\src\\\\si', 'c:\\\\Users\\\\Asus\\\\Desktop\\\\Bioinformática\\\\2º Ano\\\\1º Semestre\\\\Sistemas inteligentes\\\\si\\\\scripts', 'c:\\\\Users\\\\Asus\\\\AppData\\\\Local\\\\Programs\\\\Python\\\\Python310\\\\python310.zip', 'c:\\\\Users\\\\Asus\\\\AppData\\\\Local\\\\Programs\\\\Python\\\\Python310\\\\DLLs', 'c:\\\\Users\\\\Asus\\\\AppData\\\\Local\\\\Programs\\\\Python\\\\Python310\\\\lib', 'c:\\\\Users\\\\Asus\\\\AppData\\\\Local\\\\Programs\\\\Python\\\\Python310', '', 'c:\\\\Users\\\\Asus\\\\AppData\\\\Local\\\\Programs\\\\Python\\\\Python310\\\\lib\\\\site-packages', 'c:\\\\Users\\\\Asus\\\\AppData\\\\Local\\\\Programs\\\\Python\\\\Python310\\\\lib\\\\site-packages\\\\win32', 'c:\\\\Users\\\\Asus\\\\AppData\\\\Local\\\\Programs\\\\Python\\\\Python310\\\\lib\\\\site-packages\\\\win32\\\\lib', 'c:\\\\Users\\\\Asus\\\\AppData\\\\Local\\\\Programs\\\\Python\\\\Python310\\\\lib\\\\site-packages\\\\Pythonwin']\n"
     ]
    }
   ],
   "source": [
    "#Imports\n",
    "import sys\n",
    "import numpy as np\n",
    "sys.path.insert(0, r'C:\\Users\\Asus\\Desktop\\Bioinformática\\2º Ano\\1º Semestre\\Sistemas inteligentes\\si\\src\\si')\n",
    "sys.path.insert(0, r'C:\\Users\\Asus\\Desktop\\Bioinformática\\2º Ano\\1º Semestre\\Sistemas inteligentes\\si\\src\\si\\io')\n",
    "from linear_model.logistic_regression import LogisticRegression\n",
    "from sklearn.preprocessing import StandardScaler\n",
    "from model_selection.randomized_search_cv import randomized_search_cv\n",
    "from csv1 import read_csv\n",
    "from model_selection.grid_search import grid_search_cv"
   ]
  },
  {
   "cell_type": "markdown",
   "id": "d89e3cf7",
   "metadata": {},
   "source": [
    "#### Import dataset"
   ]
  },
  {
   "cell_type": "code",
   "execution_count": 3,
   "id": "261d2748",
   "metadata": {},
   "outputs": [],
   "source": [
    "path = r'C:\\Users\\Asus\\Desktop\\Bioinformática\\2º Ano\\1º Semestre\\Sistemas inteligentes\\si\\datasets\\breast-bin.csv'\n",
    "breast = read_csv(path, sep = \",\", features = False, label = True)\n",
    "breast.X = StandardScaler().fit_transform(breast.X) "
   ]
  },
  {
   "cell_type": "markdown",
   "id": "35a9f9c4",
   "metadata": {},
   "source": [
    "#### Initialize the Logistic Regression model"
   ]
  },
  {
   "cell_type": "code",
   "execution_count": 4,
   "id": "70abb992",
   "metadata": {},
   "outputs": [],
   "source": [
    "knn = LogisticRegression(use_adaptive_alpha = False)"
   ]
  },
  {
   "cell_type": "markdown",
   "id": "56855f09",
   "metadata": {},
   "source": [
    "#### Parameter distribution"
   ]
  },
  {
   "cell_type": "code",
   "execution_count": 5,
   "id": "78ae8eb5",
   "metadata": {},
   "outputs": [],
   "source": [
    "parameter_distribution = {'l2_penalty': np.linspace(1, 10, 10), 'alpha': np.linspace(0.001, 0.0001, 100), 'max_iter': np.linspace(1000, 2000, 200, dtype = int)}"
   ]
  },
  {
   "cell_type": "markdown",
   "id": "4efffa30",
   "metadata": {},
   "source": [
    "#### Cross validate the model"
   ]
  },
  {
   "cell_type": "code",
   "execution_count": 6,
   "id": "eab7b455",
   "metadata": {},
   "outputs": [],
   "source": [
    "scores_ = randomized_search_cv(knn, breast, parameter_distribution=parameter_distribution, cv = 3, n_iter = 10)"
   ]
  },
  {
   "cell_type": "markdown",
   "id": "28099e64",
   "metadata": {},
   "source": [
    "#### Final score"
   ]
  },
  {
   "cell_type": "code",
   "execution_count": 7,
   "id": "3941df55",
   "metadata": {},
   "outputs": [
    {
     "name": "stdout",
     "output_type": "stream",
     "text": [
      "Scores: [{'seeds': [336, 245, 27], 'train': [0.9677996422182469, 0.9677996422182469, 0.962432915921288], 'test': [0.9640287769784173, 0.9640287769784173, 0.9856115107913669], 'parameters': {'l2_penalty': 9.0, 'alpha': 0.0003363636363636364, 'max_iter': 1381}}, {'seeds': [779, 898, 672], 'train': [0.9677996422182469, 0.9660107334525939, 0.9695885509838998], 'test': [0.9640287769784173, 0.9712230215827338, 0.9568345323741008], 'parameters': {'l2_penalty': 9.0, 'alpha': 0.0003363636363636364, 'max_iter': 1381}}, {'seeds': [986, 358, 662], 'train': [0.962432915921288, 0.964221824686941, 0.9677996422182469], 'test': [0.9856115107913669, 0.9784172661870504, 0.9640287769784173], 'parameters': {'l2_penalty': 9.0, 'alpha': 0.0003363636363636364, 'max_iter': 1381}}, {'seeds': [509, 441, 471], 'train': [0.9731663685152058, 0.9677996422182469, 0.9731663685152058], 'test': [0.9424460431654677, 0.9640287769784173, 0.9424460431654677], 'parameters': {'l2_penalty': 1.0, 'alpha': 0.0005090909090909091, 'max_iter': 1447}}, {'seeds': [325, 200, 928], 'train': [0.962432915921288, 0.964221824686941, 0.9660107334525939], 'test': [0.9856115107913669, 0.9784172661870504, 0.9712230215827338], 'parameters': {'l2_penalty': 1.0, 'alpha': 0.0005090909090909091, 'max_iter': 1447}}, {'seeds': [21, 11, 653], 'train': [0.962432915921288, 0.964221824686941, 0.9731663685152058], 'test': [0.9856115107913669, 0.9784172661870504, 0.9424460431654677], 'parameters': {'l2_penalty': 1.0, 'alpha': 0.0005090909090909091, 'max_iter': 1447}}, {'seeds': [805, 353, 980], 'train': [0.960644007155635, 0.9677996422182469, 0.960644007155635], 'test': [0.9928057553956835, 0.9640287769784173, 0.9928057553956835], 'parameters': {'l2_penalty': 4.0, 'alpha': 0.0004909090909090909, 'max_iter': 1336}}, {'seeds': [292, 701, 651], 'train': [0.9713774597495528, 0.962432915921288, 0.9695885509838998], 'test': [0.9496402877697842, 0.9856115107913669, 0.9568345323741008], 'parameters': {'l2_penalty': 4.0, 'alpha': 0.0004909090909090909, 'max_iter': 1336}}, {'seeds': [961, 45, 612], 'train': [0.960644007155635, 0.9713774597495528, 0.964221824686941], 'test': [0.9928057553956835, 0.9496402877697842, 0.9784172661870504], 'parameters': {'l2_penalty': 4.0, 'alpha': 0.0004909090909090909, 'max_iter': 1336}}, {'seeds': [421, 700, 555], 'train': [0.9731663685152058, 0.964221824686941, 0.9695885509838998], 'test': [0.9424460431654677, 0.9784172661870504, 0.9568345323741008], 'parameters': {'l2_penalty': 6.0, 'alpha': 0.0007090909090909091, 'max_iter': 1206}}, {'seeds': [572, 70, 768], 'train': [0.9731663685152058, 0.964221824686941, 0.964221824686941], 'test': [0.9424460431654677, 0.9784172661870504, 0.9784172661870504], 'parameters': {'l2_penalty': 6.0, 'alpha': 0.0007090909090909091, 'max_iter': 1206}}, {'seeds': [128, 827, 331], 'train': [0.9695885509838998, 0.9695885509838998, 0.964221824686941], 'test': [0.9568345323741008, 0.9568345323741008, 0.9784172661870504], 'parameters': {'l2_penalty': 6.0, 'alpha': 0.0007090909090909091, 'max_iter': 1206}}, {'seeds': [433, 141, 550], 'train': [0.960644007155635, 0.962432915921288, 0.9677996422182469], 'test': [0.9928057553956835, 0.9856115107913669, 0.9640287769784173], 'parameters': {'l2_penalty': 9.0, 'alpha': 0.0004363636363636364, 'max_iter': 1236}}, {'seeds': [965, 116, 45], 'train': [0.9695885509838998, 0.9677996422182469, 0.9713774597495528], 'test': [0.9568345323741008, 0.9640287769784173, 0.9496402877697842], 'parameters': {'l2_penalty': 9.0, 'alpha': 0.0004363636363636364, 'max_iter': 1236}}, {'seeds': [612, 421, 700], 'train': [0.964221824686941, 0.9731663685152058, 0.964221824686941], 'test': [0.9784172661870504, 0.9424460431654677, 0.9784172661870504], 'parameters': {'l2_penalty': 9.0, 'alpha': 0.0004363636363636364, 'max_iter': 1236}}, {'seeds': [555, 572, 70], 'train': [0.9695885509838998, 0.9731663685152058, 0.964221824686941], 'test': [0.9568345323741008, 0.9424460431654677, 0.9784172661870504], 'parameters': {'l2_penalty': 10.0, 'alpha': 0.0003454545454545455, 'max_iter': 1638}}, {'seeds': [768, 128, 827], 'train': [0.964221824686941, 0.9695885509838998, 0.9695885509838998], 'test': [0.9784172661870504, 0.9568345323741008, 0.9568345323741008], 'parameters': {'l2_penalty': 10.0, 'alpha': 0.0003454545454545455, 'max_iter': 1638}}, {'seeds': [331, 433, 141], 'train': [0.964221824686941, 0.960644007155635, 0.962432915921288], 'test': [0.9784172661870504, 0.9928057553956835, 0.9856115107913669], 'parameters': {'l2_penalty': 10.0, 'alpha': 0.0003454545454545455, 'max_iter': 1638}}, {'seeds': [550, 965, 116], 'train': [0.9677996422182469, 0.9695885509838998, 0.9677996422182469], 'test': [0.9640287769784173, 0.9568345323741008, 0.9640287769784173], 'parameters': {'l2_penalty': 1.0, 'alpha': 0.0005818181818181818, 'max_iter': 1783}}, {'seeds': [45, 612, 421], 'train': [0.9713774597495528, 0.964221824686941, 0.9731663685152058], 'test': [0.9496402877697842, 0.9784172661870504, 0.9424460431654677], 'parameters': {'l2_penalty': 1.0, 'alpha': 0.0005818181818181818, 'max_iter': 1783}}, {'seeds': [700, 555, 572], 'train': [0.964221824686941, 0.9695885509838998, 0.9731663685152058], 'test': [0.9784172661870504, 0.9568345323741008, 0.9424460431654677], 'parameters': {'l2_penalty': 1.0, 'alpha': 0.0005818181818181818, 'max_iter': 1783}}, {'seeds': [70, 768, 128], 'train': [0.964221824686941, 0.964221824686941, 0.9695885509838998], 'test': [0.9784172661870504, 0.9784172661870504, 0.9568345323741008], 'parameters': {'l2_penalty': 1.0, 'alpha': 0.0004090909090909091, 'max_iter': 1512}}, {'seeds': [827, 331, 433], 'train': [0.9695885509838998, 0.964221824686941, 0.960644007155635], 'test': [0.9568345323741008, 0.9784172661870504, 0.9928057553956835], 'parameters': {'l2_penalty': 1.0, 'alpha': 0.0004090909090909091, 'max_iter': 1512}}, {'seeds': [141, 550, 965], 'train': [0.962432915921288, 0.9677996422182469, 0.9695885509838998], 'test': [0.9856115107913669, 0.9640287769784173, 0.9568345323741008], 'parameters': {'l2_penalty': 1.0, 'alpha': 0.0004090909090909091, 'max_iter': 1512}}, {'seeds': [116, 45, 612], 'train': [0.9677996422182469, 0.9713774597495528, 0.964221824686941], 'test': [0.9640287769784173, 0.9496402877697842, 0.9784172661870504], 'parameters': {'l2_penalty': 10.0, 'alpha': 0.0005090909090909091, 'max_iter': 1788}}, {'seeds': [421, 700, 555], 'train': [0.9731663685152058, 0.964221824686941, 0.9695885509838998], 'test': [0.9424460431654677, 0.9784172661870504, 0.9568345323741008], 'parameters': {'l2_penalty': 10.0, 'alpha': 0.0005090909090909091, 'max_iter': 1788}}, {'seeds': [572, 70, 768], 'train': [0.9731663685152058, 0.964221824686941, 0.964221824686941], 'test': [0.9424460431654677, 0.9784172661870504, 0.9784172661870504], 'parameters': {'l2_penalty': 10.0, 'alpha': 0.0005090909090909091, 'max_iter': 1788}}, {'seeds': [128, 827, 331], 'train': [0.9695885509838998, 0.9695885509838998, 0.964221824686941], 'test': [0.9568345323741008, 0.9568345323741008, 0.9784172661870504], 'parameters': {'l2_penalty': 3.0, 'alpha': 0.0007272727272727272, 'max_iter': 1140}}, {'seeds': [433, 141, 550], 'train': [0.960644007155635, 0.962432915921288, 0.9677996422182469], 'test': [0.9928057553956835, 0.9856115107913669, 0.9640287769784173], 'parameters': {'l2_penalty': 3.0, 'alpha': 0.0007272727272727272, 'max_iter': 1140}}, {'seeds': [965, 116, 45], 'train': [0.9695885509838998, 0.9677996422182469, 0.9713774597495528], 'test': [0.9568345323741008, 0.9640287769784173, 0.9496402877697842], 'parameters': {'l2_penalty': 3.0, 'alpha': 0.0007272727272727272, 'max_iter': 1140}}]\n",
      "\n"
     ]
    }
   ],
   "source": [
    "print(f\"Scores: {scores_}\\n\") "
   ]
  },
  {
   "attachments": {},
   "cell_type": "markdown",
   "id": "c721f223",
   "metadata": {},
   "source": [
    "### Grid Search Test"
   ]
  },
  {
   "cell_type": "code",
   "execution_count": 8,
   "id": "25b54636",
   "metadata": {},
   "outputs": [],
   "source": [
    "logistic_reg = LogisticRegression(use_adaptive_alpha = False)\n",
    "\n",
    "parameter_grid = {'l2_penalty': (1, 10), \n",
    "                    'alpha': (0.001, 0.0001), \n",
    "                    'max_iter': (1000, 2000)}"
   ]
  },
  {
   "cell_type": "code",
   "execution_count": 9,
   "id": "70fd2d25",
   "metadata": {},
   "outputs": [
    {
     "name": "stdout",
     "output_type": "stream",
     "text": [
      "Scores: [{'seeds': [612, 421, 700], 'train': [0.964221824686941, 0.9731663685152058, 0.964221824686941], 'test': [0.9784172661870504, 0.9424460431654677, 0.9784172661870504], 'parameters': {'l2_penalty': 1, 'alpha': 0.001, 'max_iter': 1000}}, {'seeds': [555, 572, 70], 'train': [0.9695885509838998, 0.9749552772808586, 0.9660107334525939], 'test': [0.9568345323741008, 0.9424460431654677, 0.9784172661870504], 'parameters': {'l2_penalty': 1, 'alpha': 0.001, 'max_iter': 2000}}, {'seeds': [768, 128, 827], 'train': [0.964221824686941, 0.9695885509838998, 0.9695885509838998], 'test': [0.9784172661870504, 0.9568345323741008, 0.9568345323741008], 'parameters': {'l2_penalty': 1, 'alpha': 0.0001, 'max_iter': 1000}}, {'seeds': [331, 433, 141], 'train': [0.964221824686941, 0.960644007155635, 0.962432915921288], 'test': [0.9784172661870504, 0.9928057553956835, 0.9856115107913669], 'parameters': {'l2_penalty': 1, 'alpha': 0.0001, 'max_iter': 2000}}, {'seeds': [550, 965, 116], 'train': [0.9677996422182469, 0.9695885509838998, 0.9677996422182469], 'test': [0.9640287769784173, 0.9568345323741008, 0.9640287769784173], 'parameters': {'l2_penalty': 10, 'alpha': 0.001, 'max_iter': 1000}}, {'seeds': [45, 612, 421], 'train': [0.9713774597495528, 0.964221824686941, 0.9731663685152058], 'test': [0.9496402877697842, 0.9784172661870504, 0.9424460431654677], 'parameters': {'l2_penalty': 10, 'alpha': 0.001, 'max_iter': 2000}}, {'seeds': [700, 555, 572], 'train': [0.964221824686941, 0.9695885509838998, 0.9731663685152058], 'test': [0.9784172661870504, 0.9568345323741008, 0.9424460431654677], 'parameters': {'l2_penalty': 10, 'alpha': 0.0001, 'max_iter': 1000}}, {'seeds': [70, 768, 128], 'train': [0.964221824686941, 0.964221824686941, 0.9695885509838998], 'test': [0.9784172661870504, 0.9784172661870504, 0.9568345323741008], 'parameters': {'l2_penalty': 10, 'alpha': 0.0001, 'max_iter': 2000}}]\n"
     ]
    }
   ],
   "source": [
    "grid_scores = grid_search_cv(logistic_reg, breast, parameter_grid, cv = 3)\n",
    "\n",
    "\n",
    "print(f\"Scores: {grid_scores}\")  # pd.DataFrame(grid_scores)"
   ]
  }
 ],
 "metadata": {
  "kernelspec": {
   "display_name": "Python 3",
   "language": "python",
   "name": "python3"
  },
  "language_info": {
   "codemirror_mode": {
    "name": "ipython",
    "version": 3
   },
   "file_extension": ".py",
   "mimetype": "text/x-python",
   "name": "python",
   "nbconvert_exporter": "python",
   "pygments_lexer": "ipython3",
   "version": "3.10.2"
  },
  "vscode": {
   "interpreter": {
    "hash": "107d7b120a5b68773a87d4067e673630b35702e55ebab3138143d08b1c4d7cbc"
   }
  }
 },
 "nbformat": 4,
 "nbformat_minor": 5
}
