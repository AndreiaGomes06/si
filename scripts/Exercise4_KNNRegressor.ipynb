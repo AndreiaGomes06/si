{
 "cells": [
  {
   "cell_type": "markdown",
   "id": "10fef895",
   "metadata": {},
   "source": [
    "### Exercício 3: Implementar o KNNRegressor com RMSE"
   ]
  },
  {
   "cell_type": "markdown",
   "id": "d4e8bef7",
   "metadata": {},
   "source": [
    "####  Testar o objeto KNNRegressor"
   ]
  },
  {
   "cell_type": "code",
   "execution_count": 4,
   "id": "14b1c7e3",
   "metadata": {},
   "outputs": [],
   "source": [
    "import sys\n",
    "sys.path.insert(0, r'C:\\Users\\Asus\\Desktop\\Bioinformática\\2º Ano\\1º Semestre\\Sistemas inteligentes\\si\\src\\si')\n",
    "sys.path.insert(0, r'C:\\Users\\Asus\\Desktop\\Bioinformática\\2º Ano\\1º Semestre\\Sistemas inteligentes\\si\\src\\si\\io')\n",
    "from model_selection.split import train_test_split\n",
    "from neighbors.knn_regressor import KNNRegressor\n",
    "from csv1 import read_csv\n",
    "import numpy as np"
   ]
  },
  {
   "cell_type": "code",
   "execution_count": 5,
   "id": "2abb8382",
   "metadata": {},
   "outputs": [
    {
     "name": "stdout",
     "output_type": "stream",
     "text": [
      "     syct  mmin   mmax  cach  chmin  chmax\n",
      "198   125   256   6000   256     16    128\n",
      "269    29  8000  32000    32      8     32\n",
      "220    29  8000  32000    32      8     32\n",
      "172    29  8000  32000    32      8     32\n",
      "132    29  8000  16000    32      8     16\n",
      "..    ...   ...    ...   ...    ...    ...\n",
      "42    124  1000   8000     0      1      8\n",
      "46     98  1000   8000    32      2      8\n",
      "52    125  2000   8000     0      2     14\n",
      "67    480   512   8000    32      0      0\n",
      "45    480  1000   4000     0      0      0\n",
      "\n",
      "[209 rows x 6 columns]\n"
     ]
    }
   ],
   "source": [
    "file = r\"C:\\Users\\Asus\\Desktop\\Bioinformática\\2º Ano\\1º Semestre\\Sistemas inteligentes\\si\\datasets\\cpu.csv\"\n",
    "a = read_csv(filename = file, sep = \",\", features = True, label = True)\n",
    "print(a.print_dataframe())"
   ]
  },
  {
   "cell_type": "code",
   "execution_count": 8,
   "id": "a1b51452",
   "metadata": {},
   "outputs": [
    {
     "name": "stdout",
     "output_type": "stream",
     "text": [
      "[140.66666667  29.33333333  35.66666667 701.33333333  18.66666667\n",
      " 321.66666667  39.33333333  29.66666667 765.33333333 148.\n",
      "  68.          66.          59.33333333  50.33333333  88.\n",
      "  32.66666667  60.66666667  20.33333333 179.33333333  66.\n",
      "  69.66666667  69.66666667 124.66666667  35.          12.\n",
      "  75.          21.          30.33333333  21.          75.\n",
      " 321.66666667  28.          84.66666667  24.66666667  15.66666667\n",
      "  31.33333333  42.         440.33333333  88.          29.\n",
      " 148.        ]\n"
     ]
    }
   ],
   "source": [
    "\n",
    "train, test = train_test_split(a, test_size = 0.2)\n",
    "    \n",
    "knn = KNNRegressor(k = 3)\n",
    "knn.fit(train)\n",
    "print(knn.predict(test))"
   ]
  },
  {
   "cell_type": "code",
   "execution_count": 9,
   "id": "3aa75b2b",
   "metadata": {},
   "outputs": [
    {
     "name": "stdout",
     "output_type": "stream",
     "text": [
      "81.36259969252633\n"
     ]
    }
   ],
   "source": [
    "print(knn.score(test))"
   ]
  },
  {
   "cell_type": "code",
   "execution_count": null,
   "id": "4771c959",
   "metadata": {},
   "outputs": [],
   "source": []
  }
 ],
 "metadata": {
  "kernelspec": {
   "display_name": "Python 3 (ipykernel)",
   "language": "python",
   "name": "python3"
  },
  "language_info": {
   "codemirror_mode": {
    "name": "ipython",
    "version": 3
   },
   "file_extension": ".py",
   "mimetype": "text/x-python",
   "name": "python",
   "nbconvert_exporter": "python",
   "pygments_lexer": "ipython3",
   "version": "3.9.7"
  }
 },
 "nbformat": 4,
 "nbformat_minor": 5
}
