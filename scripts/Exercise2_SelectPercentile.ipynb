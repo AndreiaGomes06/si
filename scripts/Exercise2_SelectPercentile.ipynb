{
 "cells": [
  {
   "cell_type": "markdown",
   "id": "a8648699",
   "metadata": {},
   "source": [
    "### Exercício 3: Implementar o SelectPercentile"
   ]
  },
  {
   "cell_type": "markdown",
   "id": "00023d08",
   "metadata": {},
   "source": [
    "#### Testar a class SelectPercentile"
   ]
  },
  {
   "cell_type": "code",
   "execution_count": 13,
   "id": "deb4f6b8",
   "metadata": {},
   "outputs": [],
   "source": [
    "import sys\n",
    "sys.path.insert(0, r'C:\\Users\\Asus\\Desktop\\Bioinformática\\2º Ano\\1º Semestre\\Sistemas inteligentes\\si\\src\\si')\n",
    "sys.path.insert(0, r'C:\\Users\\Asus\\Desktop\\Bioinformática\\2º Ano\\1º Semestre\\Sistemas inteligentes\\si\\src\\si\\io')\n",
    "from data.dataset import Dataset\n",
    "\n",
    "from statistic.f_classification import f_classification\n",
    "from feature_selection.select_percentile import SelectPercentile\n",
    "from csv1 import read_csv\n",
    "import numpy as np\n"
   ]
  },
  {
   "cell_type": "code",
   "execution_count": 12,
   "id": "c5d3d6c6",
   "metadata": {},
   "outputs": [
    {
     "name": "stdout",
     "output_type": "stream",
     "text": [
      "                sepal_length  sepal_width  petal_length  petal_width\n",
      "Iris-setosa              5.1          3.5           1.4          0.2\n",
      "Iris-setosa              4.9          3.0           1.4          0.2\n",
      "Iris-setosa              4.7          3.2           1.3          0.2\n",
      "Iris-setosa              4.6          3.1           1.5          0.2\n",
      "Iris-setosa              5.0          3.6           1.4          0.2\n",
      "...                      ...          ...           ...          ...\n",
      "Iris-virginica           6.7          3.0           5.2          2.3\n",
      "Iris-virginica           6.3          2.5           5.0          1.9\n",
      "Iris-virginica           6.5          3.0           5.2          2.0\n",
      "Iris-virginica           6.2          3.4           5.4          2.3\n",
      "Iris-virginica           5.9          3.0           5.1          1.8\n",
      "\n",
      "[150 rows x 4 columns]\n"
     ]
    }
   ],
   "source": [
    "file = r\"C:\\Users\\Asus\\Desktop\\Bioinformática\\2º Ano\\1º Semestre\\Sistemas inteligentes\\si\\datasets\\iris.csv\"\n",
    "a = read_csv(filename = file, sep = \",\", features = True, label = True)\n",
    "print(a.print_dataframe())"
   ]
  },
  {
   "cell_type": "code",
   "execution_count": 4,
   "id": "946014ff",
   "metadata": {},
   "outputs": [],
   "source": [
    "model = SelectPercentile(0.30, score_func = f_classification)\n",
    "new_model = model.fit_transform(a)"
   ]
  },
  {
   "cell_type": "code",
   "execution_count": 5,
   "id": "c8f875aa",
   "metadata": {},
   "outputs": [
    {
     "name": "stdout",
     "output_type": "stream",
     "text": [
      "['petal_length']\n"
     ]
    }
   ],
   "source": [
    "print(new_model.features)"
   ]
  },
  {
   "cell_type": "code",
   "execution_count": 6,
   "id": "2d2f5185",
   "metadata": {},
   "outputs": [
    {
     "name": "stdout",
     "output_type": "stream",
     "text": [
      "class\n"
     ]
    }
   ],
   "source": [
    "print(new_model.label)"
   ]
  },
  {
   "cell_type": "code",
   "execution_count": 9,
   "id": "78026527",
   "metadata": {},
   "outputs": [
    {
     "name": "stdout",
     "output_type": "stream",
     "text": [
      "(150, 1)\n"
     ]
    }
   ],
   "source": [
    "print(new_model.shape())"
   ]
  },
  {
   "cell_type": "code",
   "execution_count": 10,
   "id": "e46e50b2",
   "metadata": {},
   "outputs": [
    {
     "name": "stdout",
     "output_type": "stream",
     "text": [
      "[1.66966919e-31 1.32791652e-16 3.05197580e-91 4.37695696e-85]\n"
     ]
    }
   ],
   "source": [
    "print(model.p)"
   ]
  },
  {
   "cell_type": "code",
   "execution_count": 11,
   "id": "35a8f720",
   "metadata": {},
   "outputs": [
    {
     "name": "stdout",
     "output_type": "stream",
     "text": [
      "[ 119.26450218   47.3644614  1179.0343277   959.32440573]\n"
     ]
    }
   ],
   "source": [
    "print(model.F)"
   ]
  },
  {
   "cell_type": "code",
   "execution_count": null,
   "id": "3495b3b4",
   "metadata": {},
   "outputs": [],
   "source": []
  }
 ],
 "metadata": {
  "kernelspec": {
   "display_name": "Python 3 (ipykernel)",
   "language": "python",
   "name": "python3"
  },
  "language_info": {
   "codemirror_mode": {
    "name": "ipython",
    "version": 3
   },
   "file_extension": ".py",
   "mimetype": "text/x-python",
   "name": "python",
   "nbconvert_exporter": "python",
   "pygments_lexer": "ipython3",
   "version": "3.9.7"
  }
 },
 "nbformat": 4,
 "nbformat_minor": 5
}
