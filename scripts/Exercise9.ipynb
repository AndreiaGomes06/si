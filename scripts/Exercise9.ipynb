{
 "cells": [
  {
   "cell_type": "markdown",
   "id": "7049f320",
   "metadata": {},
   "source": [
    "### Avaliação Aula 9"
   ]
  },
  {
   "cell_type": "markdown",
   "id": "ba8c35e0",
   "metadata": {},
   "source": [
    "#### Exercício 9: Redes neuronais, layers de ativação, regressão e multiclass"
   ]
  },
  {
   "cell_type": "code",
   "execution_count": 1,
   "id": "8f11b43b",
   "metadata": {},
   "outputs": [],
   "source": [
    "# -*- coding: utf-8 -*-\n",
    "\n",
    "# modules\n",
    "import sys\n",
    "import numpy as np\n",
    "sys.path.insert(0, r'C:\\Users\\Asus\\Desktop\\Bioinformática\\2º Ano\\1º Semestre\\Sistemas inteligentes\\si\\src\\si')\n",
    "\n",
    "from data.dataset import Dataset\n",
    "from neural_networks.nn import NN\n",
    "from neural_networks.layers import Dense, Sigmoid_Activation, SoftMaxActivation, ReLUActivation, LinearActivation"
   ]
  },
  {
   "cell_type": "markdown",
   "id": "8a2cbba9",
   "metadata": {},
   "source": [
    "#### 9.3) Constrói um modelo de redes neuronais considerando a seguinte topologia:\n",
    "- O dataset de treino contém 32 features\n",
    "- O problema é do tipo binário\n",
    "- O modelo deve conter 3 Dense layers:\n",
    " - Dense layer de input\n",
    " - Dense layer com redução do número de neurónios (units) para metade\n",
    " - Dense layer final (output)\n",
    "- Usa a SigmoidActivation como layer de ativação"
   ]
  },
  {
   "cell_type": "code",
   "execution_count": 2,
   "id": "fcd377f0",
   "metadata": {},
   "outputs": [
    {
     "data": {
      "text/plain": [
       "array([0, 0, 1, 0, 0, 0, 1, 0, 0, 0, 1, 0, 1, 0, 0, 1, 0, 1, 0, 0, 0, 0,\n",
       "       1, 0, 0, 0, 1, 1, 0, 1, 1, 0, 0, 0, 1, 1, 1, 0, 0, 1, 0, 0, 0, 0,\n",
       "       1, 1, 1, 1, 1, 0, 1, 1, 0, 0, 1, 1, 0, 0, 1, 0, 1, 1, 0, 0, 1, 0,\n",
       "       1, 1, 1, 0, 0, 1, 0, 0, 1, 0, 1, 0, 0, 0, 0, 1, 0, 0, 1, 0, 0, 0,\n",
       "       1, 1, 1, 1, 1, 1, 1, 0, 1, 1, 1, 0, 0, 0, 0, 0, 1, 0, 0, 1, 0, 0,\n",
       "       0, 1, 0, 0, 1, 1, 0, 1, 0, 0])"
      ]
     },
     "execution_count": 2,
     "metadata": {},
     "output_type": "execute_result"
    }
   ],
   "source": [
    "# training dataset\n",
    "np.random.seed(32)\n",
    "X = np.random.randn(120, 32)\n",
    "y = np.random.randint(0, 2, 120)\n",
    "\n",
    "dataset_bin = Dataset(X, y)\n",
    "dataset_bin.y"
   ]
  },
  {
   "cell_type": "code",
   "execution_count": 3,
   "id": "f551cfa3",
   "metadata": {},
   "outputs": [],
   "source": [
    "l1 = Dense(input_size=32, output_size=32)\n",
    "l2 = Dense(input_size=32, output_size=32//2)\n",
    "l3 = Dense(input_size=32//2, output_size=1) #if score is <0.5 the output is 0, and if score is >0.5 the output is 1\n",
    "\n",
    "l1_seq = Sigmoid_Activation()\n",
    "l2_seq = Sigmoid_Activation()\n",
    "l3_seq = Sigmoid_Activation()\n",
    "\n",
    "layers = [l1, l1_seq, l2, l2_seq, l3, l3_seq] #list of layers\n",
    "nn_model = NN(layers) "
   ]
  },
  {
   "cell_type": "code",
   "execution_count": 4,
   "id": "c481b335",
   "metadata": {},
   "outputs": [
    {
     "data": {
      "text/plain": [
       "<neural_networks.nn.NN at 0x21af3ee83a0>"
      ]
     },
     "execution_count": 4,
     "metadata": {},
     "output_type": "execute_result"
    }
   ],
   "source": [
    "nn_model.fit(dataset = dataset_bin)"
   ]
  },
  {
   "cell_type": "code",
   "execution_count": null,
   "id": "128c647e",
   "metadata": {},
   "outputs": [],
   "source": [
    "nn_model.predict(dataset = dataset_bin)"
   ]
  },
  {
   "cell_type": "markdown",
   "id": "27b9ec4c",
   "metadata": {},
   "source": [
    "#### 9.4) Constrói um modelo de redes neuronais considerando a seguinte topologia:\n",
    "- O dataset de treino contém 32 features\n",
    "- O problema é do tipo multiclass com 3 classes\n",
    "- O modelo deve conter 3 Dense layers:\n",
    " - Dense layer de input\n",
    " - Dense layer com redução do número de neurónios (units) para metade\n",
    " - Dense layer final (output)\n",
    "- Usa a SigmoidActivation como layer de ativação\n",
    "- Usa a SoftMaxActivation como última layer de ativação"
   ]
  },
  {
   "cell_type": "code",
   "execution_count": 6,
   "id": "81a72d9b",
   "metadata": {},
   "outputs": [
    {
     "data": {
      "text/plain": [
       "array([2, 2, 2, 2, 0, 1, 2, 0, 2, 1, 2, 0, 2, 1, 2, 1, 0, 2, 2, 0, 1, 0,\n",
       "       2, 0, 1, 1, 2, 1, 2, 2, 2, 1, 1, 2, 2, 2, 2, 0, 2, 1, 1, 1, 1, 0,\n",
       "       1, 2, 2, 0, 0, 0, 1, 1, 2, 2, 1, 2, 1, 0, 2, 0, 2, 1, 2, 1, 2, 0,\n",
       "       2, 2, 1, 0, 0, 1, 0, 2, 2, 1, 1, 0, 1, 0, 0, 0, 0, 2, 1, 0, 0, 1,\n",
       "       2, 2, 2, 2, 0, 0, 0, 0, 2, 0, 0, 0, 1, 1, 0, 1, 2, 2, 0, 0, 1, 0,\n",
       "       0, 1, 2, 2, 1, 2, 1, 2, 1, 2])"
      ]
     },
     "execution_count": 6,
     "metadata": {},
     "output_type": "execute_result"
    }
   ],
   "source": [
    "# training dataset\n",
    "np.random.seed(32)\n",
    "X = np.random.randn(120, 32)\n",
    "y = np.random.randint(0, 3, 120)\n",
    "\n",
    "dataset2 = Dataset(X, y)\n",
    "dataset2.y"
   ]
  },
  {
   "cell_type": "code",
   "execution_count": 7,
   "id": "2a728f53",
   "metadata": {},
   "outputs": [],
   "source": [
    "l1 = Dense(input_size = 32, output_size = 32)\n",
    "l2 = Dense(input_size = 32, output_size = 32//2)\n",
    "l3 = Dense(input_size = 32//2, output_size = 3)\n",
    "\n",
    "l1_class_sa = Sigmoid_Activation()\n",
    "l2_class_sa = Sigmoid_Activation()\n",
    "l3_class_sma = SoftMaxActivation()\n",
    "\n",
    "layers=[ l1, l1_class_sa, l2, l2_class_sa, l3, l3_class_sma]\n",
    "model_class = NN(layers)"
   ]
  },
  {
   "cell_type": "code",
   "execution_count": null,
   "id": "3b6fdb3f",
   "metadata": {},
   "outputs": [],
   "source": [
    "model_class.fit(dataset2)"
   ]
  },
  {
   "cell_type": "code",
   "execution_count": null,
   "id": "78e43e4d",
   "metadata": {},
   "outputs": [],
   "source": [
    "model_class.predict(dataset2)"
   ]
  },
  {
   "cell_type": "markdown",
   "id": "d7d50f55",
   "metadata": {},
   "source": [
    "#### 9.5) Constrói um modelo de redes neuronais considerando a seguinte topologia:\n",
    "- O dataset de treino contém 32 features\n",
    "- O problema é do tipo regressão\n",
    "- O modelo deve conter 3 Dense layers:\n",
    " - Dense layer de input\n",
    " - Dense layer com redução do número de neurónios (units) para metade\n",
    " - Dense layer final (output)\n",
    "- Usa a ReLU como layer de ativação\n",
    "- Considera que o modelo deve acabar com uma ativação linear"
   ]
  },
  {
   "cell_type": "code",
   "execution_count": 15,
   "id": "f70c1172",
   "metadata": {},
   "outputs": [
    {
     "data": {
      "text/plain": [
       "array([ 0.71547353, -0.71872666, -1.98814586, -0.75200279,  0.88117931,\n",
       "       -0.44468611,  1.05978473,  0.57672146,  0.13964803,  1.57258772,\n",
       "       -1.19685552, -1.25685322, -0.51459268, -0.51529445, -1.06552076,\n",
       "        0.44061408,  0.68298176,  3.11335987, -0.54432467, -2.0969254 ,\n",
       "       -0.04352082, -1.38943868, -0.73688503, -1.31724886, -0.20592268,\n",
       "        0.98020279, -2.27105266,  0.36387381,  0.30752718,  0.09439799,\n",
       "       -1.54788962, -0.4545496 ,  1.55982121,  1.2264142 ,  0.12042863,\n",
       "       -0.7883922 ,  1.07002129,  0.35085381, -1.08350751,  0.13129866,\n",
       "       -1.20183412, -0.21018285, -1.5959463 ,  0.70304565, -2.02793566,\n",
       "       -1.06975587,  0.7848609 ,  0.01700652,  1.20791878,  0.66691887,\n",
       "       -1.28821386,  0.56877822,  1.36115828, -0.20157567, -0.00519527,\n",
       "       -1.58902907, -0.45444925, -2.00597599, -1.16037829, -1.29167892,\n",
       "       -0.50855262, -0.02113207,  0.73274978,  0.01196069,  2.2383034 ,\n",
       "        1.49573213, -0.32104883, -0.75577796, -1.15301118,  0.14011111,\n",
       "        0.15425018,  0.10087691,  0.59248632,  0.98925719, -0.0647183 ,\n",
       "        1.19482132,  0.67669086, -0.22359268, -0.18428463,  0.37722555,\n",
       "       -1.69132953,  0.55372211,  0.66792918, -1.0192706 ,  0.60386685,\n",
       "        1.94604005, -0.04354834,  2.66374827,  0.12555308,  0.7142363 ,\n",
       "        2.01459953,  0.36686128, -0.8165592 ,  0.28093648,  1.41742227,\n",
       "       -0.46970016, -1.46792356, -0.48007255,  0.05939307,  0.92794141,\n",
       "       -0.87991514,  1.44264309, -0.0575541 , -0.75147582,  0.92613352,\n",
       "       -0.79227421,  0.03091812, -0.5869975 , -0.55819148, -0.15797624,\n",
       "       -0.66710986, -0.08910613, -0.59061061,  0.03095047, -0.7595372 ,\n",
       "       -1.23395827,  0.17161555,  0.39172192, -0.07987023, -1.1646372 ])"
      ]
     },
     "execution_count": 15,
     "metadata": {},
     "output_type": "execute_result"
    }
   ],
   "source": [
    "np.random.seed(32)\n",
    "X = np.random.randn(120, 32)\n",
    "y = np.random.randn(120)\n",
    "\n",
    "dataset3 = Dataset(X, y)\n",
    "dataset3.y"
   ]
  },
  {
   "cell_type": "code",
   "execution_count": 16,
   "id": "203085d4",
   "metadata": {},
   "outputs": [],
   "source": [
    "l1_reg = Dense(input_size=32, output_size=32)\n",
    "l2_reg = Dense(input_size=32, output_size=32//2)\n",
    "l3_reg = Dense(input_size=32//2, output_size=1)\n",
    "\n",
    "l1_relu = ReLUActivation()\n",
    "l2_relu = ReLUActivation()\n",
    "l3_lin = LinearActivation()\n",
    "\n",
    "\n",
    "layers = [l1_reg, l1_relu, l2_reg, l2_relu, l3_reg, l3_lin]\n",
    "nn_model_reg = NN(layers) "
   ]
  },
  {
   "cell_type": "code",
   "execution_count": null,
   "id": "1acb0063",
   "metadata": {},
   "outputs": [],
   "source": [
    "nn_model_reg.fit(dataset3)"
   ]
  },
  {
   "cell_type": "code",
   "execution_count": null,
   "id": "ab19b8c2",
   "metadata": {},
   "outputs": [],
   "source": [
    "nn_model_reg.predict(dataset3)"
   ]
  }
 ],
 "metadata": {
  "kernelspec": {
   "display_name": "Python 3 (ipykernel)",
   "language": "python",
   "name": "python3"
  },
  "language_info": {
   "codemirror_mode": {
    "name": "ipython",
    "version": 3
   },
   "file_extension": ".py",
   "mimetype": "text/x-python",
   "name": "python",
   "nbconvert_exporter": "python",
   "pygments_lexer": "ipython3",
   "version": "3.9.7"
  },
  "vscode": {
   "interpreter": {
    "hash": "52d90d3cc821dd0beedd6e719dbdecc722c226b9d90ed1b663c34e1877f1142e"
   }
  }
 },
 "nbformat": 4,
 "nbformat_minor": 5
}
